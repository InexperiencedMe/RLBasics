{
 "cells": [
  {
   "cell_type": "code",
   "execution_count": 1,
   "metadata": {},
   "outputs": [
    {
     "name": "stderr",
     "output_type": "stream",
     "text": [
      "c:\\Python310\\lib\\site-packages\\scipy\\__init__.py:146: UserWarning: A NumPy version >=1.16.5 and <1.23.0 is required for this version of SciPy (detected version 1.26.0\n",
      "  warnings.warn(f\"A NumPy version >={np_minversion} and <{np_maxversion}\"\n"
     ]
    }
   ],
   "source": [
    "import numpy as np\n",
    "import gymnasium as gym\n",
    "import random\n",
    "from tqdm.notebook import tqdm\n",
    "import cv2 as cv"
   ]
  },
  {
   "cell_type": "code",
   "execution_count": 2,
   "metadata": {},
   "outputs": [],
   "source": [
    "def epsilonGreedyPolicy(epsilonStart, epsilondEnd, epsilonDecay, episode, maxEpisodes):\n",
    "    sample = random.random()\n",
    "    threshold = epsilondEnd + (epsilonStart - epsilondEnd) * np.exp(-epsilonDecay*episode/maxEpisodes)\n",
    "    if sample > threshold:\n",
    "        return False\n",
    "    return True"
   ]
  },
  {
   "cell_type": "code",
   "execution_count": 3,
   "metadata": {},
   "outputs": [],
   "source": [
    "environment = gym.make(\"FrozenLake-v1\", map_name=\"4x4\", is_slippery=False, render_mode=\"rgb_array\")\n",
    "nStates = environment.observation_space.n\n",
    "nActions = environment.action_space.n\n",
    "QTable = np.zeros((nStates, nActions))\n",
    "greedyPolicy = lambda state: np.argmax(QTable[state])"
   ]
  },
  {
   "cell_type": "code",
   "execution_count": 4,
   "metadata": {},
   "outputs": [],
   "source": [
    "trainingEpisodes = 100000\n",
    "learningRate = 0.5\n",
    "evaluationEpisodes = 100\n",
    "discountGamma = 0.98\n",
    "\n",
    "epsilonStart = 0.99\n",
    "epsilonEnd = 0.01\n",
    "epsilonDecay = 10 # Works okay for reaching target value at around 20% of max episodes"
   ]
  },
  {
   "cell_type": "code",
   "execution_count": 5,
   "metadata": {},
   "outputs": [
    {
     "data": {
      "application/vnd.jupyter.widget-view+json": {
       "model_id": "2871fd5dc4b549a09a9d87a924544bf3",
       "version_major": 2,
       "version_minor": 0
      },
      "text/plain": [
       "  0%|          | 0/100000 [00:00<?, ?it/s]"
      ]
     },
     "metadata": {},
     "output_type": "display_data"
    }
   ],
   "source": [
    "for episode in tqdm(range(trainingEpisodes)):\n",
    "    state, _ = environment.reset()\n",
    "    \n",
    "    while True:\n",
    "\n",
    "        if epsilonGreedyPolicy(epsilonStart, epsilonEnd, epsilonDecay, episode, trainingEpisodes) == True:\n",
    "            action = environment.action_space.sample()\n",
    "        else:\n",
    "            action = greedyPolicy(state)\n",
    "        \n",
    "        nextState, reward, terminated, truncated, _ = environment.step(action)\n",
    "        QTable[state][action] = QTable[state][action] + learningRate*(reward + discountGamma*np.max(QTable[nextState]) - QTable[state][action])\n",
    "\n",
    "        if terminated or truncated:\n",
    "            break\n",
    "\n",
    "        state = nextState"
   ]
  },
  {
   "cell_type": "code",
   "execution_count": 6,
   "metadata": {},
   "outputs": [
    {
     "data": {
      "text/plain": [
       "array([[0.88584238, 0.9039208 , 0.9039208 , 0.88584238],\n",
       "       [0.88584238, 0.        , 0.92236816, 0.9039208 ],\n",
       "       [0.9039208 , 0.941192  , 0.9039208 , 0.92236816],\n",
       "       [0.92236816, 0.        , 0.9039208 , 0.9039208 ],\n",
       "       [0.9039208 , 0.92236816, 0.        , 0.88584238],\n",
       "       [0.        , 0.        , 0.        , 0.        ],\n",
       "       [0.        , 0.9604    , 0.        , 0.92236816],\n",
       "       [0.        , 0.        , 0.        , 0.        ],\n",
       "       [0.92236816, 0.        , 0.941192  , 0.9039208 ],\n",
       "       [0.92236816, 0.9604    , 0.9604    , 0.        ],\n",
       "       [0.941192  , 0.98      , 0.        , 0.941192  ],\n",
       "       [0.        , 0.        , 0.        , 0.        ],\n",
       "       [0.        , 0.        , 0.        , 0.        ],\n",
       "       [0.        , 0.9604    , 0.98      , 0.941192  ],\n",
       "       [0.9604    , 0.98      , 1.        , 0.9604    ],\n",
       "       [0.        , 0.        , 0.        , 0.        ]])"
      ]
     },
     "execution_count": 6,
     "metadata": {},
     "output_type": "execute_result"
    }
   ],
   "source": [
    "QTable"
   ]
  },
  {
   "cell_type": "code",
   "execution_count": 7,
   "metadata": {},
   "outputs": [],
   "source": [
    "def returnFrames(environment):\n",
    "    state, _ = environment.reset()\n",
    "    images = []\n",
    "    image = environment.render()\n",
    "    images.append(image)\n",
    "    while True:\n",
    "        action = greedyPolicy(state)\n",
    "        state, _, terminated, truncated, _ = environment.step(action)\n",
    "        image = environment.render()\n",
    "        images.append(image)\n",
    "        if terminated or truncated:\n",
    "            break\n",
    "    return images"
   ]
  },
  {
   "cell_type": "code",
   "execution_count": 8,
   "metadata": {},
   "outputs": [],
   "source": [
    "def saveVideo(images, outputDirectory, fps):\n",
    "    height, width, _ = images[0].shape\n",
    "    writer = cv.VideoWriter(outputDirectory, cv.VideoWriter_fourcc(*'H264'), fps, (width, height))\n",
    "    for image in images:\n",
    "        bgr_image = cv.cvtColor(image, cv.COLOR_RGB2BGR)\n",
    "        writer.write(bgr_image)\n",
    "    writer.release()"
   ]
  },
  {
   "cell_type": "code",
   "execution_count": 9,
   "metadata": {},
   "outputs": [
    {
     "name": "stderr",
     "output_type": "stream",
     "text": [
      "c:\\Python310\\lib\\site-packages\\pygame\\pkgdata.py:25: DeprecationWarning: pkg_resources is deprecated as an API. See https://setuptools.pypa.io/en/latest/pkg_resources.html\n",
      "  from pkg_resources import resource_stream, resource_exists\n",
      "c:\\Python310\\lib\\site-packages\\pkg_resources\\__init__.py:2871: DeprecationWarning: Deprecated call to `pkg_resources.declare_namespace('mpl_toolkits')`.\n",
      "Implementing implicit namespace packages (as specified in PEP 420) is preferred to `pkg_resources.declare_namespace`. See https://setuptools.pypa.io/en/latest/references/keywords.html#keyword-namespace-packages\n",
      "  declare_namespace(pkg)\n",
      "c:\\Python310\\lib\\site-packages\\pkg_resources\\__init__.py:2871: DeprecationWarning: Deprecated call to `pkg_resources.declare_namespace('google')`.\n",
      "Implementing implicit namespace packages (as specified in PEP 420) is preferred to `pkg_resources.declare_namespace`. See https://setuptools.pypa.io/en/latest/references/keywords.html#keyword-namespace-packages\n",
      "  declare_namespace(pkg)\n",
      "c:\\Python310\\lib\\site-packages\\pkg_resources\\__init__.py:2871: DeprecationWarning: Deprecated call to `pkg_resources.declare_namespace('mpl_toolkits')`.\n",
      "Implementing implicit namespace packages (as specified in PEP 420) is preferred to `pkg_resources.declare_namespace`. See https://setuptools.pypa.io/en/latest/references/keywords.html#keyword-namespace-packages\n",
      "  declare_namespace(pkg)\n"
     ]
    }
   ],
   "source": [
    "saveVideo(returnFrames(environment), \"preview.mp4\", fps=5)"
   ]
  }
 ],
 "metadata": {
  "kernelspec": {
   "display_name": "Python 3",
   "language": "python",
   "name": "python3"
  },
  "language_info": {
   "codemirror_mode": {
    "name": "ipython",
    "version": 3
   },
   "file_extension": ".py",
   "mimetype": "text/x-python",
   "name": "python",
   "nbconvert_exporter": "python",
   "pygments_lexer": "ipython3",
   "version": "3.10.8"
  }
 },
 "nbformat": 4,
 "nbformat_minor": 2
}
